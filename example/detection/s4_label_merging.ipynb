{
 "cells": [
  {
   "cell_type": "code",
   "execution_count": 1,
   "metadata": {},
   "outputs": [],
   "source": [
    "ROOT = \"/home/james/Desktop/mygithub/COSMOduleS\"\n",
    "\n",
    "import os\n",
    "os.chdir(ROOT)\n",
    "\n",
    "from cosmodules.detection import DetectionLabelMerging"
   ]
  },
  {
   "cell_type": "code",
   "execution_count": 2,
   "metadata": {},
   "outputs": [
    {
     "data": {
      "text/plain": [
       "<cosmodules.detection.label_merging.DetectionLabelMerging at 0x7f5490e1afa0>"
      ]
     },
     "execution_count": 2,
     "metadata": {},
     "output_type": "execute_result"
    }
   ],
   "source": [
    "DetectionLabelMerging(\n",
    "    cfg_path_list = [\n",
    "        f\"{ROOT}/example/detection/data/general.json\",\n",
    "        f\"{ROOT}/example/detection/data_another_labeler/general.json\",\n",
    "    ],\n",
    "    save_path = f\"{ROOT}/example/detection/output/label_merging/general.json\",\n",
    "    ties_handling = \"union\"\n",
    ")"
   ]
  },
  {
   "cell_type": "code",
   "execution_count": null,
   "metadata": {},
   "outputs": [],
   "source": []
  }
 ],
 "metadata": {
  "kernelspec": {
   "display_name": "test",
   "language": "python",
   "name": "python3"
  },
  "language_info": {
   "codemirror_mode": {
    "name": "ipython",
    "version": 3
   },
   "file_extension": ".py",
   "mimetype": "text/x-python",
   "name": "python",
   "nbconvert_exporter": "python",
   "pygments_lexer": "ipython3",
   "version": "3.9.18"
  }
 },
 "nbformat": 4,
 "nbformat_minor": 2
}
