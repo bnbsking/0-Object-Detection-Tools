{
 "cells": [
  {
   "cell_type": "code",
   "execution_count": 1,
   "metadata": {},
   "outputs": [],
   "source": [
    "ROOT = \"/home/james/Desktop/mygithub/COSMOs\"\n",
    "\n",
    "import os\n",
    "os.chdir(ROOT)\n",
    "\n",
    "from cosmos.detection import DetectionActiveLearningByHFlip"
   ]
  },
  {
   "cell_type": "code",
   "execution_count": 2,
   "metadata": {},
   "outputs": [
    {
     "data": {
      "text/plain": [
       "<cosmos.detection.active_learning.DetectionActiveLearningByHFlip at 0x7fbcd1c3bdc0>"
      ]
     },
     "execution_count": 2,
     "metadata": {},
     "output_type": "execute_result"
    }
   ],
   "source": [
    "DetectionActiveLearningByHFlip(\n",
    "    pred_path_1 = f\"{ROOT}/example/detection/prediction/general.json\",\n",
    "    pred_path_2 = f\"{ROOT}/example/detection/prediction/general_horizontal_flip.json\",\n",
    "    save_path = f\"{ROOT}/example/detection/output/active_learning/general.json\"\n",
    ")"
   ]
  },
  {
   "cell_type": "code",
   "execution_count": null,
   "metadata": {},
   "outputs": [],
   "source": []
  }
 ],
 "metadata": {
  "kernelspec": {
   "display_name": "test",
   "language": "python",
   "name": "python3"
  },
  "language_info": {
   "codemirror_mode": {
    "name": "ipython",
    "version": 3
   },
   "file_extension": ".py",
   "mimetype": "text/x-python",
   "name": "python",
   "nbconvert_exporter": "python",
   "pygments_lexer": "ipython3",
   "version": "3.9.18"
  }
 },
 "nbformat": 4,
 "nbformat_minor": 2
}
