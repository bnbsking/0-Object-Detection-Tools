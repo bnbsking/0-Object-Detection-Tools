{
 "cells": [
  {
   "cell_type": "code",
   "execution_count": 1,
   "metadata": {},
   "outputs": [],
   "source": [
    "ROOT = \"/home/james/Desktop/mygithub/COSMOduleS\"\n",
    "\n",
    "import os\n",
    "os.chdir(ROOT)\n",
    "\n",
    "from cosmodules.classification import ClassificationLabelMerging"
   ]
  },
  {
   "cell_type": "code",
   "execution_count": 3,
   "metadata": {},
   "outputs": [
    {
     "data": {
      "text/plain": [
       "<cosmodules.classification.label_merging.ClassificationLabelMerging at 0x7f08603e4c10>"
      ]
     },
     "execution_count": 3,
     "metadata": {},
     "output_type": "execute_result"
    }
   ],
   "source": [
    "ClassificationLabelMerging(\n",
    "    cfg_path_list = [\n",
    "        f\"{ROOT}/example/classification/data/single_label.json\",\n",
    "        f\"{ROOT}/example/classification/data_another_labeler/single_label.json\",\n",
    "    ],\n",
    "    save_path = f\"{ROOT}/example/classification/output/label_merging/single_label.json\"\n",
    ")\n",
    "\n",
    "ClassificationLabelMerging(\n",
    "    cfg_path_list = [\n",
    "        f\"{ROOT}/example/classification/data/single_label_background.json\",\n",
    "        f\"{ROOT}/example/classification/data_another_labeler/single_label_background.json\",\n",
    "    ],\n",
    "    save_path = f\"{ROOT}/example/classification/output/label_merging/single_label_background.json\"\n",
    ")\n",
    "\n",
    "ClassificationLabelMerging(\n",
    "    cfg_path_list = [\n",
    "        f\"{ROOT}/example/classification/data/multi_label.json\",\n",
    "        f\"{ROOT}/example/classification/data_another_labeler/multi_label.json\",\n",
    "    ],\n",
    "    save_path = f\"{ROOT}/example/classification/output/label_merging/multi_label.json\"\n",
    ")"
   ]
  },
  {
   "cell_type": "code",
   "execution_count": null,
   "metadata": {},
   "outputs": [],
   "source": []
  }
 ],
 "metadata": {
  "kernelspec": {
   "display_name": "test",
   "language": "python",
   "name": "python3"
  },
  "language_info": {
   "codemirror_mode": {
    "name": "ipython",
    "version": 3
   },
   "file_extension": ".py",
   "mimetype": "text/x-python",
   "name": "python",
   "nbconvert_exporter": "python",
   "pygments_lexer": "ipython3",
   "version": "3.9.18"
  }
 },
 "nbformat": 4,
 "nbformat_minor": 2
}
