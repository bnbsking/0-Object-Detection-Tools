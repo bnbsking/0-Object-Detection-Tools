{
 "cells": [
  {
   "cell_type": "code",
   "execution_count": 1,
   "metadata": {},
   "outputs": [],
   "source": [
    "ROOT = \"/home/james/Desktop/mygithub/COSMOs\"\n",
    "\n",
    "import os\n",
    "os.chdir(ROOT)\n",
    "\n",
    "from cosmos.classification import ClassificationActiveLearning"
   ]
  },
  {
   "cell_type": "code",
   "execution_count": 2,
   "metadata": {},
   "outputs": [
    {
     "data": {
      "text/plain": [
       "<cosmos.classification.active_learning.ClassificationActiveLearning at 0x7ff9a06ff6a0>"
      ]
     },
     "execution_count": 2,
     "metadata": {},
     "output_type": "execute_result"
    }
   ],
   "source": [
    "ClassificationActiveLearning(\n",
    "    pred_path = f\"{ROOT}/example/classification/prediction/single_label.json\",\n",
    "    save_path = f\"{ROOT}/example/classification/output/active_learning/single_label.json\",\n",
    "    loss_name = \"entropy\"\n",
    ")\n",
    "\n",
    "ClassificationActiveLearning(\n",
    "    pred_path = f\"{ROOT}/example/classification/prediction/single_label_background.json\",\n",
    "    save_path = f\"{ROOT}/example/classification/output/active_learning/single_label_background.json\",\n",
    "    loss_name = \"entropy\"\n",
    ")\n",
    "\n",
    "ClassificationActiveLearning(\n",
    "    pred_path = f\"{ROOT}/example/classification/prediction/multi_label.json\",\n",
    "    save_path = f\"{ROOT}/example/classification/output/active_learning/multi_label.json\",\n",
    "    loss_name = \"entropy\"\n",
    ")"
   ]
  },
  {
   "cell_type": "code",
   "execution_count": null,
   "metadata": {},
   "outputs": [],
   "source": []
  }
 ],
 "metadata": {
  "kernelspec": {
   "display_name": "test",
   "language": "python",
   "name": "python3"
  },
  "language_info": {
   "codemirror_mode": {
    "name": "ipython",
    "version": 3
   },
   "file_extension": ".py",
   "mimetype": "text/x-python",
   "name": "python",
   "nbconvert_exporter": "python",
   "pygments_lexer": "ipython3",
   "version": "3.9.18"
  }
 },
 "nbformat": 4,
 "nbformat_minor": 2
}
