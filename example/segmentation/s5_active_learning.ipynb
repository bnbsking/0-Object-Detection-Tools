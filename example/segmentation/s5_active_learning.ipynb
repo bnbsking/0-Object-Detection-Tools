{
 "cells": [
  {
   "cell_type": "code",
   "execution_count": 2,
   "metadata": {},
   "outputs": [],
   "source": [
    "ROOT = \"/home/james/Desktop/mygithub/COSMOs\"\n",
    "\n",
    "import os\n",
    "os.chdir(ROOT)\n",
    "\n",
    "from cosmos.segmentation import (\n",
    "    InstanceSegmentationActiveLearningByHFlip,\n",
    "    SemanticSegmentationActiveLearning\n",
    ")"
   ]
  },
  {
   "cell_type": "code",
   "execution_count": 3,
   "metadata": {},
   "outputs": [
    {
     "data": {
      "text/plain": [
       "<cosmos.segmentation.active_learning.SemanticSegmentationActiveLearning at 0x7f56bc252fd0>"
      ]
     },
     "execution_count": 3,
     "metadata": {},
     "output_type": "execute_result"
    }
   ],
   "source": [
    "InstanceSegmentationActiveLearningByHFlip(\n",
    "    pred_path_1 = f\"{ROOT}/example/segmentation/prediction/instance/general.json\",\n",
    "    pred_path_2 = f\"{ROOT}/example/segmentation/prediction/instance_horizontal_flip/general.json\",\n",
    "    save_path = f\"{ROOT}/example/segmentation/output/active_learning/instance.json\"\n",
    ")\n",
    "\n",
    "SemanticSegmentationActiveLearning(\n",
    "    pred_path = f\"{ROOT}/example/segmentation/prediction/semantic/general.json\",\n",
    "    save_path = f\"{ROOT}/example/segmentation/output/active_learning/semantic.json\",\n",
    "    loss_name = \"entropy\"\n",
    ")"
   ]
  },
  {
   "cell_type": "code",
   "execution_count": null,
   "metadata": {},
   "outputs": [],
   "source": []
  }
 ],
 "metadata": {
  "kernelspec": {
   "display_name": "test",
   "language": "python",
   "name": "python3"
  },
  "language_info": {
   "codemirror_mode": {
    "name": "ipython",
    "version": 3
   },
   "file_extension": ".py",
   "mimetype": "text/x-python",
   "name": "python",
   "nbconvert_exporter": "python",
   "pygments_lexer": "ipython3",
   "version": "3.9.18"
  }
 },
 "nbformat": 4,
 "nbformat_minor": 2
}
